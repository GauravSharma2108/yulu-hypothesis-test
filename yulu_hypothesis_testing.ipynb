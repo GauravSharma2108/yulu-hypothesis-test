{
  "cells": [
    {
      "cell_type": "markdown",
      "id": "79081529",
      "metadata": {
        "id": "79081529"
      },
      "source": [
        "# <span style='color:green'> Yulu: Case Study </span>"
      ]
    },
    {
      "cell_type": "markdown",
      "id": "31fd841a",
      "metadata": {
        "id": "31fd841a"
      },
      "source": [
        "### Table of content\n",
        "1. [Problem definition](#problem-definition)\n",
        "    1. [About Yulu](#about)\n",
        "    1. [Problem](#problem)\n",
        "    1. [Objective of the case study](#objective)\n",
        "1. [Exploratory Data Analysis and Preprocessing](#eda)\n",
        "    1. [Basic Data Analysis](#basic)\n",
        "    1. [Non Visual Analysis](#non-visual)\n",
        "    1. [Univariate, Bivariate and Multivariate Analysis](#visual)\n",
        "1. [Hypothesis Testing](#hypothesis-testing)\n",
        "    1. [t-test](#ttest)\n",
        "    1. [ANOVA](#anova)\n",
        "    1. [Chi2 test](#chi2)\n",
        "1. [Conclusion and Business Insights](#conclusion)"
      ]
    },
    {
      "cell_type": "markdown",
      "id": "ee50bdfc",
      "metadata": {
        "id": "ee50bdfc"
      },
      "source": [
        "<a id='problem-definition'></a>\n",
        "# Problem Definition\n",
        "\n",
        "<a id='about'></a>\n",
        "### About Yulu\n",
        "Yulu is India’s leading micro-mobility service provider, which offers unique vehicles for the daily commute. Starting off as a mission to eliminate traffic congestion in India, Yulu provides the safest commute solution through a user-friendly mobile app to enable shared, solo and sustainable commuting.\n",
        "\n",
        "Yulu zones are located at all the appropriate locations (including metro stations, bus stands, office spaces, residential areas, corporate offices, etc) to make those first and last miles smooth, affordable, and convenient!\n",
        "\n",
        "<a id='problem'></a>\n",
        "### Problem\n",
        "Yulu has recently suffered considerable dips in its revenues. They have contracted a consulting company to understand the factors on which the demand for these shared electric cycles depends. Specifically, they want to understand the factors affecting the demand for these shared electric cycles in the Indian market.\n",
        "\n",
        "The company wants to know which variables are significant in predicting the demand for shared electric cycles in the Indian market? How well those variables describe the electric cycle demands\n",
        "\n",
        "### Objective of the case study\n",
        "- Perform EDA and find out the behaviour of the dataset\n",
        "- Perform statistical tests to derive which variable have impact on bike demand\n",
        "    - t-test\n",
        "    - ANOVA\n",
        "    - chi2 test"
      ]
    },
    {
      "cell_type": "code",
      "execution_count": null,
      "id": "0d5a8e9b",
      "metadata": {
        "id": "0d5a8e9b"
      },
      "outputs": [],
      "source": [
        "# importing libraries\n",
        "import pandas as pd\n",
        "import numpy as np\n",
        "import matplotlib.pyplot as plt\n",
        "import seaborn as sns"
      ]
    },
    {
      "cell_type": "code",
      "execution_count": null,
      "id": "f6c31d4a",
      "metadata": {
        "id": "f6c31d4a"
      },
      "outputs": [],
      "source": [
        "# reading dataset\n",
        "data = pd.read_csv('Yulu.csv')"
      ]
    },
    {
      "cell_type": "markdown",
      "id": "9c0b4b48",
      "metadata": {
        "id": "9c0b4b48"
      },
      "source": [
        "<a id='eda'></a>\n",
        "# Exploratory Data Analysis and Preprocessing"
      ]
    },
    {
      "cell_type": "markdown",
      "id": "52387a3d",
      "metadata": {
        "id": "52387a3d"
      },
      "source": [
        "<a id='basic'></a>\n",
        "## Basic Data Exploration"
      ]
    },
    {
      "cell_type": "markdown",
      "id": "5fb4f029",
      "metadata": {
        "id": "5fb4f029"
      },
      "source": [
        "#### Column Profiling (As given in the problem statement):\n",
        "\n",
        "- *datetime*: datetime\n",
        "- *season*: season (1: spring, 2: summer, 3: fall, 4: winter)\n",
        "- *holiday*: whether day is a holiday or not (extracted from http://dchr.dc.gov/page/holiday-schedule)\n",
        "- *workingday*: if day is neither weekend nor holiday is 1, otherwise is 0.\n",
        "- *weather*:<br>\n",
        "    1: Clear, Few clouds, partly cloudy, partly cloudy<br>\n",
        "    2: Mist + Cloudy, Mist + Broken clouds, Mist + Few clouds, Mist<br>\n",
        "    3: Light Snow, Light Rain + Thunderstorm + Scattered clouds, Light Rain + Scattered clouds<br>\n",
        "    4: Heavy Rain + Ice Pallets + Thunderstorm + Mist, Snow + Fog\n",
        "- *temp*: temperature in Celsius\n",
        "- *atemp*: feeling temperature in Celsius\n",
        "- *humidity*: humidity\n",
        "- *windspeed*: wind speed\n",
        "- *casual*: count of casual users\n",
        "- *registered*: count of registered users\n",
        "- *count*: count of total rental bikes including both casual and registered"
      ]
    },
    {
      "cell_type": "code",
      "execution_count": null,
      "id": "ca090c69",
      "metadata": {
        "id": "ca090c69",
        "outputId": "d039218b-917e-41b4-81a9-b0bdc123fb59"
      },
      "outputs": [
        {
          "data": {
            "text/html": [
              "<div>\n",
              "<style scoped>\n",
              "    .dataframe tbody tr th:only-of-type {\n",
              "        vertical-align: middle;\n",
              "    }\n",
              "\n",
              "    .dataframe tbody tr th {\n",
              "        vertical-align: top;\n",
              "    }\n",
              "\n",
              "    .dataframe thead th {\n",
              "        text-align: right;\n",
              "    }\n",
              "</style>\n",
              "<table border=\"1\" class=\"dataframe\">\n",
              "  <thead>\n",
              "    <tr style=\"text-align: right;\">\n",
              "      <th></th>\n",
              "      <th>datetime</th>\n",
              "      <th>season</th>\n",
              "      <th>holiday</th>\n",
              "      <th>workingday</th>\n",
              "      <th>weather</th>\n",
              "      <th>temp</th>\n",
              "      <th>atemp</th>\n",
              "      <th>humidity</th>\n",
              "      <th>windspeed</th>\n",
              "      <th>casual</th>\n",
              "      <th>registered</th>\n",
              "      <th>count</th>\n",
              "    </tr>\n",
              "  </thead>\n",
              "  <tbody>\n",
              "    <tr>\n",
              "      <th>0</th>\n",
              "      <td>2011-01-01 00:00:00</td>\n",
              "      <td>1</td>\n",
              "      <td>0</td>\n",
              "      <td>0</td>\n",
              "      <td>1</td>\n",
              "      <td>9.84</td>\n",
              "      <td>14.395</td>\n",
              "      <td>81</td>\n",
              "      <td>0.0</td>\n",
              "      <td>3</td>\n",
              "      <td>13</td>\n",
              "      <td>16</td>\n",
              "    </tr>\n",
              "    <tr>\n",
              "      <th>1</th>\n",
              "      <td>2011-01-01 01:00:00</td>\n",
              "      <td>1</td>\n",
              "      <td>0</td>\n",
              "      <td>0</td>\n",
              "      <td>1</td>\n",
              "      <td>9.02</td>\n",
              "      <td>13.635</td>\n",
              "      <td>80</td>\n",
              "      <td>0.0</td>\n",
              "      <td>8</td>\n",
              "      <td>32</td>\n",
              "      <td>40</td>\n",
              "    </tr>\n",
              "    <tr>\n",
              "      <th>2</th>\n",
              "      <td>2011-01-01 02:00:00</td>\n",
              "      <td>1</td>\n",
              "      <td>0</td>\n",
              "      <td>0</td>\n",
              "      <td>1</td>\n",
              "      <td>9.02</td>\n",
              "      <td>13.635</td>\n",
              "      <td>80</td>\n",
              "      <td>0.0</td>\n",
              "      <td>5</td>\n",
              "      <td>27</td>\n",
              "      <td>32</td>\n",
              "    </tr>\n",
              "    <tr>\n",
              "      <th>3</th>\n",
              "      <td>2011-01-01 03:00:00</td>\n",
              "      <td>1</td>\n",
              "      <td>0</td>\n",
              "      <td>0</td>\n",
              "      <td>1</td>\n",
              "      <td>9.84</td>\n",
              "      <td>14.395</td>\n",
              "      <td>75</td>\n",
              "      <td>0.0</td>\n",
              "      <td>3</td>\n",
              "      <td>10</td>\n",
              "      <td>13</td>\n",
              "    </tr>\n",
              "    <tr>\n",
              "      <th>4</th>\n",
              "      <td>2011-01-01 04:00:00</td>\n",
              "      <td>1</td>\n",
              "      <td>0</td>\n",
              "      <td>0</td>\n",
              "      <td>1</td>\n",
              "      <td>9.84</td>\n",
              "      <td>14.395</td>\n",
              "      <td>75</td>\n",
              "      <td>0.0</td>\n",
              "      <td>0</td>\n",
              "      <td>1</td>\n",
              "      <td>1</td>\n",
              "    </tr>\n",
              "  </tbody>\n",
              "</table>\n",
              "</div>"
            ],
            "text/plain": [
              "              datetime  season  holiday  workingday  weather  temp   atemp  \\\n",
              "0  2011-01-01 00:00:00       1        0           0        1  9.84  14.395   \n",
              "1  2011-01-01 01:00:00       1        0           0        1  9.02  13.635   \n",
              "2  2011-01-01 02:00:00       1        0           0        1  9.02  13.635   \n",
              "3  2011-01-01 03:00:00       1        0           0        1  9.84  14.395   \n",
              "4  2011-01-01 04:00:00       1        0           0        1  9.84  14.395   \n",
              "\n",
              "   humidity  windspeed  casual  registered  count  \n",
              "0        81        0.0       3          13     16  \n",
              "1        80        0.0       8          32     40  \n",
              "2        80        0.0       5          27     32  \n",
              "3        75        0.0       3          10     13  \n",
              "4        75        0.0       0           1      1  "
            ]
          },
          "execution_count": 16,
          "metadata": {},
          "output_type": "execute_result"
        }
      ],
      "source": [
        "# head\n",
        "data.head()"
      ]
    },
    {
      "cell_type": "code",
      "execution_count": null,
      "id": "48c411fe",
      "metadata": {
        "id": "48c411fe",
        "outputId": "8545808d-a2ca-482e-e1b5-a145f6d9a5b7"
      },
      "outputs": [
        {
          "data": {
            "text/plain": [
              "(10886, 12)"
            ]
          },
          "execution_count": 17,
          "metadata": {},
          "output_type": "execute_result"
        }
      ],
      "source": [
        "# shape\n",
        "data.shape"
      ]
    },
    {
      "cell_type": "code",
      "execution_count": null,
      "id": "5dba42e6",
      "metadata": {
        "id": "5dba42e6",
        "outputId": "616846b9-9314-4990-9474-fdd8290fce6c"
      },
      "outputs": [
        {
          "name": "stdout",
          "output_type": "stream",
          "text": [
            "<class 'pandas.core.frame.DataFrame'>\n",
            "RangeIndex: 10886 entries, 0 to 10885\n",
            "Data columns (total 12 columns):\n",
            " #   Column      Non-Null Count  Dtype  \n",
            "---  ------      --------------  -----  \n",
            " 0   datetime    10886 non-null  object \n",
            " 1   season      10886 non-null  int64  \n",
            " 2   holiday     10886 non-null  int64  \n",
            " 3   workingday  10886 non-null  int64  \n",
            " 4   weather     10886 non-null  int64  \n",
            " 5   temp        10886 non-null  float64\n",
            " 6   atemp       10886 non-null  float64\n",
            " 7   humidity    10886 non-null  int64  \n",
            " 8   windspeed   10886 non-null  float64\n",
            " 9   casual      10886 non-null  int64  \n",
            " 10  registered  10886 non-null  int64  \n",
            " 11  count       10886 non-null  int64  \n",
            "dtypes: float64(3), int64(8), object(1)\n",
            "memory usage: 1020.7+ KB\n"
          ]
        }
      ],
      "source": [
        "# info\n",
        "data.info()"
      ]
    },
    {
      "cell_type": "markdown",
      "id": "40bbc0a7",
      "metadata": {
        "id": "40bbc0a7"
      },
      "source": [
        ">#### Observations\n",
        ">1. There 10886 datapoints and 12 columns\n",
        ">1. There are no missing values in the dataset\n",
        ">1. datetime columns is an object in the dataframe. We need to convert it to datetime datatype."
      ]
    },
    {
      "cell_type": "code",
      "execution_count": null,
      "id": "e8ace9bc",
      "metadata": {
        "id": "e8ace9bc"
      },
      "outputs": [],
      "source": [
        "# convert datetime columns to datetime datatype\n",
        "data['datetime'] = pd.to_datetime(data['datetime'])"
      ]
    },
    {
      "cell_type": "code",
      "execution_count": null,
      "id": "919b9f56",
      "metadata": {
        "id": "919b9f56"
      },
      "outputs": [],
      "source": [
        "# adding additional features based on datetime\n",
        "data['day'] = data['datetime'].dt.day\n",
        "data['month'] = data['datetime'].dt.month\n",
        "data['year'] = data['datetime'].dt.year\n",
        "data['hour'] = data['datetime'].dt.hour"
      ]
    },
    {
      "cell_type": "code",
      "execution_count": null,
      "id": "40550531",
      "metadata": {
        "id": "40550531",
        "outputId": "31c6a110-d34e-4a0a-f1f8-f670856520ff"
      },
      "outputs": [
        {
          "data": {
            "text/html": [
              "<div>\n",
              "<style scoped>\n",
              "    .dataframe tbody tr th:only-of-type {\n",
              "        vertical-align: middle;\n",
              "    }\n",
              "\n",
              "    .dataframe tbody tr th {\n",
              "        vertical-align: top;\n",
              "    }\n",
              "\n",
              "    .dataframe thead th {\n",
              "        text-align: right;\n",
              "    }\n",
              "</style>\n",
              "<table border=\"1\" class=\"dataframe\">\n",
              "  <thead>\n",
              "    <tr style=\"text-align: right;\">\n",
              "      <th></th>\n",
              "      <th>season</th>\n",
              "      <th>holiday</th>\n",
              "      <th>workingday</th>\n",
              "      <th>weather</th>\n",
              "      <th>temp</th>\n",
              "      <th>atemp</th>\n",
              "      <th>humidity</th>\n",
              "      <th>windspeed</th>\n",
              "      <th>casual</th>\n",
              "      <th>registered</th>\n",
              "      <th>count</th>\n",
              "      <th>day</th>\n",
              "      <th>month</th>\n",
              "      <th>year</th>\n",
              "      <th>hour</th>\n",
              "    </tr>\n",
              "  </thead>\n",
              "  <tbody>\n",
              "    <tr>\n",
              "      <th>count</th>\n",
              "      <td>10886.00</td>\n",
              "      <td>10886.00</td>\n",
              "      <td>10886.00</td>\n",
              "      <td>10886.00</td>\n",
              "      <td>10886.00</td>\n",
              "      <td>10886.00</td>\n",
              "      <td>10886.00</td>\n",
              "      <td>10886.00</td>\n",
              "      <td>10886.00</td>\n",
              "      <td>10886.00</td>\n",
              "      <td>10886.00</td>\n",
              "      <td>10886.00</td>\n",
              "      <td>10886.00</td>\n",
              "      <td>10886.0</td>\n",
              "      <td>10886.00</td>\n",
              "    </tr>\n",
              "    <tr>\n",
              "      <th>mean</th>\n",
              "      <td>2.51</td>\n",
              "      <td>0.03</td>\n",
              "      <td>0.68</td>\n",
              "      <td>1.42</td>\n",
              "      <td>20.23</td>\n",
              "      <td>23.66</td>\n",
              "      <td>61.89</td>\n",
              "      <td>12.80</td>\n",
              "      <td>36.02</td>\n",
              "      <td>155.55</td>\n",
              "      <td>191.57</td>\n",
              "      <td>9.99</td>\n",
              "      <td>6.52</td>\n",
              "      <td>2011.5</td>\n",
              "      <td>11.54</td>\n",
              "    </tr>\n",
              "    <tr>\n",
              "      <th>std</th>\n",
              "      <td>1.12</td>\n",
              "      <td>0.17</td>\n",
              "      <td>0.47</td>\n",
              "      <td>0.63</td>\n",
              "      <td>7.79</td>\n",
              "      <td>8.47</td>\n",
              "      <td>19.25</td>\n",
              "      <td>8.16</td>\n",
              "      <td>49.96</td>\n",
              "      <td>151.04</td>\n",
              "      <td>181.14</td>\n",
              "      <td>5.48</td>\n",
              "      <td>3.44</td>\n",
              "      <td>0.5</td>\n",
              "      <td>6.92</td>\n",
              "    </tr>\n",
              "    <tr>\n",
              "      <th>min</th>\n",
              "      <td>1.00</td>\n",
              "      <td>0.00</td>\n",
              "      <td>0.00</td>\n",
              "      <td>1.00</td>\n",
              "      <td>0.82</td>\n",
              "      <td>0.76</td>\n",
              "      <td>0.00</td>\n",
              "      <td>0.00</td>\n",
              "      <td>0.00</td>\n",
              "      <td>0.00</td>\n",
              "      <td>1.00</td>\n",
              "      <td>1.00</td>\n",
              "      <td>1.00</td>\n",
              "      <td>2011.0</td>\n",
              "      <td>0.00</td>\n",
              "    </tr>\n",
              "    <tr>\n",
              "      <th>25%</th>\n",
              "      <td>2.00</td>\n",
              "      <td>0.00</td>\n",
              "      <td>0.00</td>\n",
              "      <td>1.00</td>\n",
              "      <td>13.94</td>\n",
              "      <td>16.66</td>\n",
              "      <td>47.00</td>\n",
              "      <td>7.00</td>\n",
              "      <td>4.00</td>\n",
              "      <td>36.00</td>\n",
              "      <td>42.00</td>\n",
              "      <td>5.00</td>\n",
              "      <td>4.00</td>\n",
              "      <td>2011.0</td>\n",
              "      <td>6.00</td>\n",
              "    </tr>\n",
              "    <tr>\n",
              "      <th>50%</th>\n",
              "      <td>3.00</td>\n",
              "      <td>0.00</td>\n",
              "      <td>1.00</td>\n",
              "      <td>1.00</td>\n",
              "      <td>20.50</td>\n",
              "      <td>24.24</td>\n",
              "      <td>62.00</td>\n",
              "      <td>13.00</td>\n",
              "      <td>17.00</td>\n",
              "      <td>118.00</td>\n",
              "      <td>145.00</td>\n",
              "      <td>10.00</td>\n",
              "      <td>7.00</td>\n",
              "      <td>2012.0</td>\n",
              "      <td>12.00</td>\n",
              "    </tr>\n",
              "    <tr>\n",
              "      <th>75%</th>\n",
              "      <td>4.00</td>\n",
              "      <td>0.00</td>\n",
              "      <td>1.00</td>\n",
              "      <td>2.00</td>\n",
              "      <td>26.24</td>\n",
              "      <td>31.06</td>\n",
              "      <td>77.00</td>\n",
              "      <td>17.00</td>\n",
              "      <td>49.00</td>\n",
              "      <td>222.00</td>\n",
              "      <td>284.00</td>\n",
              "      <td>15.00</td>\n",
              "      <td>10.00</td>\n",
              "      <td>2012.0</td>\n",
              "      <td>18.00</td>\n",
              "    </tr>\n",
              "    <tr>\n",
              "      <th>max</th>\n",
              "      <td>4.00</td>\n",
              "      <td>1.00</td>\n",
              "      <td>1.00</td>\n",
              "      <td>4.00</td>\n",
              "      <td>41.00</td>\n",
              "      <td>45.46</td>\n",
              "      <td>100.00</td>\n",
              "      <td>57.00</td>\n",
              "      <td>367.00</td>\n",
              "      <td>886.00</td>\n",
              "      <td>977.00</td>\n",
              "      <td>19.00</td>\n",
              "      <td>12.00</td>\n",
              "      <td>2012.0</td>\n",
              "      <td>23.00</td>\n",
              "    </tr>\n",
              "  </tbody>\n",
              "</table>\n",
              "</div>"
            ],
            "text/plain": [
              "         season   holiday  workingday   weather      temp     atemp  humidity  \\\n",
              "count  10886.00  10886.00    10886.00  10886.00  10886.00  10886.00  10886.00   \n",
              "mean       2.51      0.03        0.68      1.42     20.23     23.66     61.89   \n",
              "std        1.12      0.17        0.47      0.63      7.79      8.47     19.25   \n",
              "min        1.00      0.00        0.00      1.00      0.82      0.76      0.00   \n",
              "25%        2.00      0.00        0.00      1.00     13.94     16.66     47.00   \n",
              "50%        3.00      0.00        1.00      1.00     20.50     24.24     62.00   \n",
              "75%        4.00      0.00        1.00      2.00     26.24     31.06     77.00   \n",
              "max        4.00      1.00        1.00      4.00     41.00     45.46    100.00   \n",
              "\n",
              "       windspeed    casual  registered     count       day     month     year  \\\n",
              "count   10886.00  10886.00    10886.00  10886.00  10886.00  10886.00  10886.0   \n",
              "mean       12.80     36.02      155.55    191.57      9.99      6.52   2011.5   \n",
              "std         8.16     49.96      151.04    181.14      5.48      3.44      0.5   \n",
              "min         0.00      0.00        0.00      1.00      1.00      1.00   2011.0   \n",
              "25%         7.00      4.00       36.00     42.00      5.00      4.00   2011.0   \n",
              "50%        13.00     17.00      118.00    145.00     10.00      7.00   2012.0   \n",
              "75%        17.00     49.00      222.00    284.00     15.00     10.00   2012.0   \n",
              "max        57.00    367.00      886.00    977.00     19.00     12.00   2012.0   \n",
              "\n",
              "           hour  \n",
              "count  10886.00  \n",
              "mean      11.54  \n",
              "std        6.92  \n",
              "min        0.00  \n",
              "25%        6.00  \n",
              "50%       12.00  \n",
              "75%       18.00  \n",
              "max       23.00  "
            ]
          },
          "execution_count": 52,
          "metadata": {},
          "output_type": "execute_result"
        }
      ],
      "source": [
        "# describe\n",
        "np.round(data.describe(),2)"
      ]
    },
    {
      "cell_type": "code",
      "execution_count": null,
      "id": "618d832a",
      "metadata": {
        "id": "618d832a",
        "outputId": "3a956933-0935-4736-e35c-95626515ab4e"
      },
      "outputs": [
        {
          "name": "stdout",
          "output_type": "stream",
          "text": [
            "Data start date: 2011-01-01 00:00:00\n",
            "Data end date: 2012-12-19 23:00:00\n"
          ]
        }
      ],
      "source": [
        "# date range of the data collection\n",
        "print(f\"Data start date: {data['datetime'].min()}\")\n",
        "print(f\"Data end date: {data['datetime'].max()}\")"
      ]
    },
    {
      "cell_type": "markdown",
      "id": "0986ef88",
      "metadata": {
        "id": "0986ef88"
      },
      "source": [
        "> #### Observations\n",
        ">1. Mean and median of *temp, atemp, humidity and windspeed* are very close to each other. This means that their distribution is not skewed\n",
        ">1. Mean and median of *casual, registered and count* is well separated from each other. This means their distribution is skewed and there might be outliers\n",
        ">1. The max value of day column is 19. This means the samples are collected only withing the first 19 days of the month\n",
        ">1. The data is collected from 1st January 2011 till 19th December 2012"
      ]
    },
    {
      "cell_type": "markdown",
      "id": "3ca0b6a5",
      "metadata": {
        "id": "3ca0b6a5"
      },
      "source": [
        "<a id='non-visual'></a>\n",
        "## Non Visual Analysis"
      ]
    },
    {
      "cell_type": "code",
      "execution_count": null,
      "id": "50258fc2",
      "metadata": {
        "id": "50258fc2",
        "outputId": "30f7f895-08b3-4626-ae68-b084585e726b"
      },
      "outputs": [
        {
          "data": {
            "text/plain": [
              "4    2734\n",
              "2    2733\n",
              "3    2733\n",
              "1    2686\n",
              "Name: season, dtype: int64"
            ]
          },
          "execution_count": 54,
          "metadata": {},
          "output_type": "execute_result"
        }
      ],
      "source": [
        "# season\n",
        "data['season'].value_counts()"
      ]
    },
    {
      "cell_type": "code",
      "execution_count": null,
      "id": "ec8479ae",
      "metadata": {
        "id": "ec8479ae",
        "outputId": "5c3b939a-30a2-4a41-8428-d50412aa61ef"
      },
      "outputs": [
        {
          "data": {
            "text/plain": [
              "0    10575\n",
              "1      311\n",
              "Name: holiday, dtype: int64"
            ]
          },
          "execution_count": 55,
          "metadata": {},
          "output_type": "execute_result"
        }
      ],
      "source": [
        "# holiday\n",
        "data['holiday'].value_counts()"
      ]
    },
    {
      "cell_type": "code",
      "execution_count": null,
      "id": "1137cd40",
      "metadata": {
        "id": "1137cd40",
        "outputId": "81e16eb8-c336-4ada-dead-75a2ed0028fe"
      },
      "outputs": [
        {
          "data": {
            "text/plain": [
              "1    7412\n",
              "0    3474\n",
              "Name: workingday, dtype: int64"
            ]
          },
          "execution_count": 56,
          "metadata": {},
          "output_type": "execute_result"
        }
      ],
      "source": [
        "# workingday\n",
        "data['workingday'].value_counts()"
      ]
    },
    {
      "cell_type": "code",
      "execution_count": null,
      "id": "88dbfd87",
      "metadata": {
        "id": "88dbfd87",
        "outputId": "b0999994-8a2d-46d8-aec5-2e4f1c895eba"
      },
      "outputs": [
        {
          "data": {
            "text/plain": [
              "1    7192\n",
              "2    2834\n",
              "3     859\n",
              "4       1\n",
              "Name: weather, dtype: int64"
            ]
          },
          "execution_count": 57,
          "metadata": {},
          "output_type": "execute_result"
        }
      ],
      "source": [
        "# weather\n",
        "data['weather'].value_counts()"
      ]
    },
    {
      "cell_type": "code",
      "execution_count": null,
      "id": "f776a1c3",
      "metadata": {
        "id": "f776a1c3",
        "outputId": "7f51cead-4487-4a97-dd25-c3f8243ec446"
      },
      "outputs": [
        {
          "data": {
            "text/plain": [
              "1     575\n",
              "9     575\n",
              "17    575\n",
              "5     575\n",
              "8     574\n",
              "19    574\n",
              "7     574\n",
              "14    574\n",
              "13    574\n",
              "4     574\n",
              "15    574\n",
              "16    574\n",
              "12    573\n",
              "3     573\n",
              "2     573\n",
              "6     572\n",
              "10    572\n",
              "11    568\n",
              "18    563\n",
              "Name: day, dtype: int64"
            ]
          },
          "execution_count": 58,
          "metadata": {},
          "output_type": "execute_result"
        }
      ],
      "source": [
        "# day\n",
        "data['day'].value_counts()"
      ]
    },
    {
      "cell_type": "code",
      "execution_count": null,
      "id": "4b180fdd",
      "metadata": {
        "id": "4b180fdd",
        "outputId": "33273d3d-1c11-4075-b4b7-cb07ba29272c"
      },
      "outputs": [
        {
          "data": {
            "text/plain": [
              "8     912\n",
              "12    912\n",
              "5     912\n",
              "6     912\n",
              "7     912\n",
              "10    911\n",
              "11    911\n",
              "9     909\n",
              "4     909\n",
              "2     901\n",
              "3     901\n",
              "1     884\n",
              "Name: month, dtype: int64"
            ]
          },
          "execution_count": 59,
          "metadata": {},
          "output_type": "execute_result"
        }
      ],
      "source": [
        "data['month'].value_counts()"
      ]
    },
    {
      "cell_type": "code",
      "execution_count": null,
      "id": "a8a521c8",
      "metadata": {
        "id": "a8a521c8",
        "outputId": "95197d93-03ac-4dfb-b4fe-1f96d845e7ad"
      },
      "outputs": [
        {
          "data": {
            "text/plain": [
              "2012    5464\n",
              "2011    5422\n",
              "Name: year, dtype: int64"
            ]
          },
          "execution_count": 60,
          "metadata": {},
          "output_type": "execute_result"
        }
      ],
      "source": [
        "data['year'].value_counts()"
      ]
    },
    {
      "cell_type": "code",
      "execution_count": null,
      "id": "0e250ce9",
      "metadata": {
        "id": "0e250ce9",
        "outputId": "e3135725-32ce-41c1-e900-2ba1fe7675dc"
      },
      "outputs": [
        {
          "data": {
            "text/plain": [
              "23    456\n",
              "20    456\n",
              "16    456\n",
              "15    456\n",
              "17    456\n",
              "22    456\n",
              "14    456\n",
              "18    456\n",
              "21    456\n",
              "19    456\n",
              "13    456\n",
              "12    456\n",
              "7     455\n",
              "6     455\n",
              "0     455\n",
              "8     455\n",
              "11    455\n",
              "10    455\n",
              "9     455\n",
              "1     454\n",
              "5     452\n",
              "2     448\n",
              "4     442\n",
              "3     433\n",
              "Name: hour, dtype: int64"
            ]
          },
          "execution_count": 61,
          "metadata": {},
          "output_type": "execute_result"
        }
      ],
      "source": [
        "data['hour'].value_counts()"
      ]
    },
    {
      "cell_type": "markdown",
      "id": "e217a83a",
      "metadata": {
        "id": "e217a83a"
      },
      "source": [
        ">#### Observations\n",
        ">- datapoints in *season, day, month, year and hour* are well balanced\n",
        ">- datapoints in *holiday, workingday and weather* are imbalanced\n",
        ">- There is only 1 datapoint in weather: Heavy Rain + Ice Pallets + Thunderstorm + Mist, Snow + Fog"
      ]
    },
    {
      "cell_type": "markdown",
      "id": "3f2e5875",
      "metadata": {
        "id": "3f2e5875"
      },
      "source": [
        "<a id='visual'></a>\n",
        "## Univariate, Bivariate and Multivariate Analysis (Visual)"
      ]
    },
    {
      "cell_type": "markdown",
      "id": "46620f46",
      "metadata": {
        "id": "46620f46"
      },
      "source": [
        "#### Temperature"
      ]
    },
    {
      "cell_type": "code",
      "execution_count": null,
      "id": "ab24ff62",
      "metadata": {
        "id": "ab24ff62",
        "outputId": "470e4f94-d3ee-42a3-c18c-c3b326cc39bb"
      },
      "outputs": [
        {
          "data": {
            "image/png": "[encoded data removed]",
            "text/plain": [
              "<Figure size 576x360 with 2 Axes>"
            ]
          },
          "metadata": {
            "needs_background": "light"
          },
          "output_type": "display_data"
        }
      ],
      "source": [
        "# temperature\n",
        "plt.figure(figsize=(8,5))\n",
        "plt.subplot(1,2,1)\n",
        "sns.boxplot(y=data['temp'])\n",
        "plt.subplot(1,2,2)\n",
        "sns.boxplot(y=data['atemp'])\n",
        "plt.show()"
      ]
    },
    {
      "cell_type": "markdown",
      "id": "aec75599",
      "metadata": {
        "id": "aec75599"
      },
      "source": [
        "> #### Observations\n",
        "> - There are no outliers in any temperature column\n",
        "> - The range of both temperatures is ~0-41\n",
        "> - The IQR of atemp is slightly higher than that of temp"
      ]
    },
    {
      "cell_type": "code",
      "execution_count": null,
      "id": "468976f8",
      "metadata": {
        "id": "468976f8",
        "outputId": "aa43e1f0-858a-4275-e112-c2f27d8549a6"
      },
      "outputs": [
        {
          "data": {
            "text/html": [
              "<div>\n",
              "<style scoped>\n",
              "    .dataframe tbody tr th:only-of-type {\n",
              "        vertical-align: middle;\n",
              "    }\n",
              "\n",
              "    .dataframe tbody tr th {\n",
              "        vertical-align: top;\n",
              "    }\n",
              "\n",
              "    .dataframe thead th {\n",
              "        text-align: right;\n",
              "    }\n",
              "</style>\n",
              "<table border=\"1\" class=\"dataframe\">\n",
              "  <thead>\n",
              "    <tr style=\"text-align: right;\">\n",
              "      <th></th>\n",
              "      <th>temp</th>\n",
              "      <th>atemp</th>\n",
              "    </tr>\n",
              "  </thead>\n",
              "  <tbody>\n",
              "    <tr>\n",
              "      <th>temp</th>\n",
              "      <td>1.000000</td>\n",
              "      <td>0.984948</td>\n",
              "    </tr>\n",
              "    <tr>\n",
              "      <th>atemp</th>\n",
              "      <td>0.984948</td>\n",
              "      <td>1.000000</td>\n",
              "    </tr>\n",
              "  </tbody>\n",
              "</table>\n",
              "</div>"
            ],
            "text/plain": [
              "           temp     atemp\n",
              "temp   1.000000  0.984948\n",
              "atemp  0.984948  1.000000"
            ]
          },
          "execution_count": 69,
          "metadata": {},
          "output_type": "execute_result"
        }
      ],
      "source": [
        "data[['temp','atemp']].corr()"
      ]
    },
    {
      "cell_type": "markdown",
      "id": "ae2d170c",
      "metadata": {
        "id": "ae2d170c"
      },
      "source": [
        "**Note:** Since there is a very high correlation between temp and atemp, also their distribution is quite similar, let's only analyze the temp column"
      ]
    },
    {
      "cell_type": "code",
      "execution_count": null,
      "id": "44177534",
      "metadata": {
        "id": "44177534",
        "outputId": "846fa47c-0440-4bd7-c397-48c1015c7214"
      },
      "outputs": [
        {
          "data": {
            "image/png": "[encoded data removed]",
            "text/plain": [
              "<Figure size 432x288 with 1 Axes>"
            ]
          },
          "metadata": {
            "needs_background": "light"
          },
          "output_type": "display_data"
        }
      ],
      "source": [
        "sns.boxplot(data=data,y='temp',x='season')\n",
        "plt.show()"
      ]
    },
    {
      "cell_type": "markdown",
      "id": "3aa0e0e5",
      "metadata": {
        "id": "3aa0e0e5"
      },
      "source": [
        ">#### Observations\n",
        "> 1:spring 2:summer 3:fall 4:winter\n",
        ">- The temperatures in winter is more than that in spring\n",
        ">- The temperatires in summer is less than that of fall"
      ]
    },
    {
      "cell_type": "code",
      "execution_count": null,
      "id": "33520449",
      "metadata": {
        "id": "33520449",
        "outputId": "2e237708-2f27-4b3d-8d06-7cc1b8e423f3"
      },
      "outputs": [
        {
          "data": {
            "image/png": "[encoded data removed]",
            "text/plain": [
              "<Figure size 432x288 with 1 Axes>"
            ]
          },
          "metadata": {
            "needs_background": "light"
          },
          "output_type": "display_data"
        }
      ],
      "source": [
        "sns.boxplot(data=data,y='temp',x='weather')\n",
        "plt.show()"
      ]
    },
    {
      "cell_type": "markdown",
      "id": "82ac29ba",
      "metadata": {
        "id": "82ac29ba"
      },
      "source": [
        ">#### Observations\n",
        ">- There is not a lot of variation in the temperatures between weathers\n",
        ">- weather = 4 has only one datapoint, hence the distribution is like this"
      ]
    },
    {
      "cell_type": "code",
      "execution_count": null,
      "id": "64a0b9e3",
      "metadata": {
        "id": "64a0b9e3",
        "outputId": "509b68cf-3b84-4dc1-8d88-2fa1877cc5e1"
      },
      "outputs": [
        {
          "data": {
            "image/png": "[encoded data removed]",
            "text/plain": [
              "<Figure size 432x288 with 1 Axes>"
            ]
          },
          "metadata": {
            "needs_background": "light"
          },
          "output_type": "display_data"
        }
      ],
      "source": [
        "sns.boxplot(data=data,y='temp',x='month')\n",
        "plt.show()"
      ]
    },
    {
      "cell_type": "markdown",
      "id": "b8207723",
      "metadata": {
        "id": "b8207723"
      },
      "source": [
        ">#### Observations\n",
        ">- The temp increases as the months increases upto 7, then it decreases up till 12"
      ]
    },
    {
      "cell_type": "markdown",
      "id": "9635b682",
      "metadata": {
        "id": "9635b682"
      },
      "source": [
        "#### Humidity"
      ]
    },
    {
      "cell_type": "code",
      "execution_count": null,
      "id": "2c290ec3",
      "metadata": {
        "id": "2c290ec3",
        "outputId": "0310cb36-c50b-45e9-c1c4-75e2f0d03528"
      },
      "outputs": [
        {
          "data": {
            "image/png": "[encoded data removed]",
            "text/plain": [
              "<Figure size 432x288 with 1 Axes>"
            ]
          },
          "metadata": {
            "needs_background": "light"
          },
          "output_type": "display_data"
        }
      ],
      "source": [
        "sns.histplot(data=data,x='humidity',bins=25)\n",
        "plt.show()"
      ]
    },
    {
      "cell_type": "markdown",
      "id": "f164956b",
      "metadata": {
        "id": "f164956b"
      },
      "source": [
        ">#### Observations\n",
        ">- The distribution is more like uniform in the range 40-80"
      ]
    },
    {
      "cell_type": "markdown",
      "id": "4329ddb5",
      "metadata": {
        "id": "4329ddb5"
      },
      "source": [
        "#### Windspeed"
      ]
    },
    {
      "cell_type": "code",
      "execution_count": null,
      "id": "8dea6cb1",
      "metadata": {
        "id": "8dea6cb1",
        "outputId": "d3f8c1cb-0eb3-4d0c-92f4-0a0d91213676"
      },
      "outputs": [
        {
          "data": {
            "image/png": "[encoded data removed]",
            "text/plain": [
              "<Figure size 432x288 with 1 Axes>"
            ]
          },
          "metadata": {
            "needs_background": "light"
          },
          "output_type": "display_data"
        }
      ],
      "source": [
        "sns.histplot(data=data,x='windspeed',bins=25)\n",
        "plt.show()"
      ]
    },
    {
      "cell_type": "markdown",
      "id": "2c6ab415",
      "metadata": {
        "id": "2c6ab415"
      },
      "source": [
        "#### Count"
      ]
    },
    {
      "cell_type": "code",
      "execution_count": null,
      "id": "e622b2ea",
      "metadata": {
        "id": "e622b2ea",
        "outputId": "d0ff444a-54a0-4d3e-ca55-c2a947023d47"
      },
      "outputs": [
        {
          "data": {
            "text/plain": [
              "<AxesSubplot:ylabel='count'>"
            ]
          },
          "execution_count": 95,
          "metadata": {},
          "output_type": "execute_result"
        },
        {
          "data": {
            "image/png": "[encoded data removed]",
            "text/plain": [
              "<Figure size 432x288 with 1 Axes>"
            ]
          },
          "metadata": {
            "needs_background": "light"
          },
          "output_type": "display_data"
        }
      ],
      "source": [
        "sns.boxplot(data=data,y='count')"
      ]
    },
    {
      "cell_type": "code",
      "execution_count": null,
      "id": "e7747226",
      "metadata": {
        "id": "e7747226",
        "outputId": "f1becdb0-a95b-406e-dbdb-adb3bb02eb40"
      },
      "outputs": [
        {
          "data": {
            "image/png": "[encoded data removed]",
            "text/plain": [
              "<Figure size 432x288 with 1 Axes>"
            ]
          },
          "metadata": {
            "needs_background": "light"
          },
          "output_type": "display_data"
        }
      ],
      "source": [
        "sns.histplot(data=data,x='count',bins=25,color='green')\n",
        "plt.show()"
      ]
    },
    {
      "cell_type": "markdown",
      "id": "ed10514d",
      "metadata": {
        "id": "ed10514d"
      },
      "source": [
        ">#### Observations\n",
        ">- There are many outliers in the count column\n",
        ">- The distribution of count is similar to power law or pareto distribution"
      ]
    },
    {
      "cell_type": "code",
      "execution_count": null,
      "id": "8ddffe88",
      "metadata": {
        "id": "8ddffe88",
        "outputId": "f81fb4d9-bb39-481e-858d-6a518b2a38c2"
      },
      "outputs": [
        {
          "data": {
            "text/plain": [
              "0    10886\n",
              "dtype: int64"
            ]
          },
          "execution_count": 102,
          "metadata": {},
          "output_type": "execute_result"
        }
      ],
      "source": [
        "# sanity check for the count column\n",
        "# the sum of casual and registered should be equal to count\n",
        "(data['casual']+data['registered']-data['count']).value_counts()"
      ]
    },
    {
      "cell_type": "markdown",
      "id": "8cf755b1",
      "metadata": {
        "id": "8cf755b1"
      },
      "source": [
        "### Correlations"
      ]
    },
    {
      "cell_type": "code",
      "execution_count": null,
      "id": "bd32e650",
      "metadata": {
        "id": "bd32e650",
        "outputId": "e1f856fd-078c-4867-d1c5-1003e83ee4d6"
      },
      "outputs": [
        {
          "data": {
            "image/png": "[encoded data removed]",
            "text/plain": [
              "<Figure size 720x576 with 2 Axes>"
            ]
          },
          "metadata": {
            "needs_background": "light"
          },
          "output_type": "display_data"
        }
      ],
      "source": [
        "plt.figure(figsize=(10,8))\n",
        "sns.heatmap(np.round(data.corr(),2),annot=True)\n",
        "plt.show()"
      ]
    },
    {
      "cell_type": "markdown",
      "id": "42aae760",
      "metadata": {
        "id": "42aae760"
      },
      "source": [
        ">#### Observations\n",
        ">- month and season strongly correlated\n",
        ">- atemp and temp are highly correlated\n",
        ">- count and registered are strongly correlated, so we will take only count in our analysis\n",
        ">- casual and count are moderately correlated\n",
        ">- casual and temp are moderately correlated"
      ]
    },
    {
      "cell_type": "markdown",
      "id": "5be290b4",
      "metadata": {
        "id": "5be290b4"
      },
      "source": [
        "<a id='hypothesis-testing'></a>\n",
        "# Hypothesis Testing"
      ]
    },
    {
      "cell_type": "markdown",
      "id": "22d70ce5",
      "metadata": {
        "id": "22d70ce5"
      },
      "source": [
        "<a id='ttest'></a>\n",
        "## t-test"
      ]
    },
    {
      "cell_type": "markdown",
      "id": "714af250",
      "metadata": {
        "id": "714af250"
      },
      "source": [
        "    t-test is performed to conclude whether there is any statistically significant difference between distributions of any two category of a feature. The constraint is that at a time, t-test cannot be performed on more than two categories"
      ]
    },
    {
      "cell_type": "code",
      "execution_count": null,
      "id": "6308d438",
      "metadata": {
        "id": "6308d438"
      },
      "outputs": [],
      "source": [
        "# importing ttest\n",
        "from scipy.stats import ttest_ind"
      ]
    },
    {
      "cell_type": "code",
      "execution_count": null,
      "id": "e6c10ba6",
      "metadata": {
        "id": "e6c10ba6"
      },
      "outputs": [],
      "source": [
        "# defining a function to print the results of statistical test\n",
        "def accept_reject(test_statistic,pvalue):\n",
        "    if pvalue < 0.05:\n",
        "        print(f\"\"\"There is enough evidence which disproves the null hypothesis.\n",
        "Hence, reject the null hypothesis and accept the alternate hypothesis.\n",
        "The test statistic = {np.round(test_statistic,2)}\n",
        "The p-value = {np.round(pvalue,5)}\"\"\")\n",
        "    else:\n",
        "        print(f\"\"\"There isn't enough evidence which disproves the null hypothesis.\n",
        "Hence, we fail to reject the null hypothesis.\n",
        "The test statistic = {np.round(test_statistic,2)}\n",
        "The p-value = {np.round(pvalue,5)}\"\"\")"
      ]
    },
    {
      "cell_type": "markdown",
      "id": "874b3313",
      "metadata": {
        "id": "874b3313"
      },
      "source": [
        "<a id='holiday'></a>\n",
        "### Holiday\n",
        "\n",
        "First we will check whether holidays have an impact on demand of scooters or not. If yes, then we will check whether the demand increases or decreased during holidays."
      ]
    },
    {
      "cell_type": "markdown",
      "id": "59338e88",
      "metadata": {
        "id": "59338e88"
      },
      "source": [
        "<span style='color:blue'>**Test 1**<br>\n",
        "**H0**: The day being a holiday or not does not have any effect on the demand of scooters.<br>\n",
        "**HA**: Holidays have an impact on demand of the scooters<br>\n",
        "**Signifincance level:** Since there is no significance level given, let's take a standard 95% confidence, which implies the significance level alpha = 0.05</span>"
      ]
    },
    {
      "cell_type": "markdown",
      "id": "d682707b",
      "metadata": {
        "id": "d682707b"
      },
      "source": [
        "Here, since holiday is bi-categorical variable, we will apply t-test of two independent variables."
      ]
    },
    {
      "cell_type": "code",
      "execution_count": null,
      "id": "fad003aa",
      "metadata": {
        "id": "fad003aa"
      },
      "outputs": [],
      "source": [
        "# initializing samples\n",
        "sample_0 = data.loc[data['holiday']==0,'count']\n",
        "sample_1 = data.loc[data['holiday']==1,'count']"
      ]
    },
    {
      "cell_type": "code",
      "execution_count": null,
      "id": "2aa237f7",
      "metadata": {
        "id": "2aa237f7"
      },
      "outputs": [],
      "source": [
        "# running the test\n",
        "test_statistic, pvalue = ttest_ind(sample_0,sample_1)"
      ]
    },
    {
      "cell_type": "code",
      "execution_count": null,
      "id": "12f9debb",
      "metadata": {
        "id": "12f9debb",
        "outputId": "19b1eafe-3873-4f26-b8aa-0430a3e85d0a"
      },
      "outputs": [
        {
          "name": "stdout",
          "output_type": "stream",
          "text": [
            "There isn't enough evidence which disproves the null hypothesis.\n",
            "Hence, we fail to reject the null hypothesis.\n",
            "The test statistic = 0.56\n",
            "The p-value = 0.57369\n"
          ]
        }
      ],
      "source": [
        "# displaying the results\n",
        "accept_reject(test_statistic,pvalue)"
      ]
    },
    {
      "cell_type": "markdown",
      "id": "88699e93",
      "metadata": {
        "id": "88699e93"
      },
      "source": [
        ">#### Obeservations\n",
        ">- Based on the sample, the difference in demand on holidays and non-holidays are not statistically significant.\n",
        ">- <span style='color:red'>There isn't enough evidence to reject our null hypothesis</span>"
      ]
    },
    {
      "cell_type": "markdown",
      "id": "313b82b8",
      "metadata": {
        "id": "313b82b8"
      },
      "source": [
        "- One this to notice here is that the sample size of the two categories differs a lot. Let's try to test with a similar sample size and check whether sample size is a factor in t-test."
      ]
    },
    {
      "cell_type": "markdown",
      "id": "8b72ee89",
      "metadata": {
        "id": "8b72ee89"
      },
      "source": [
        "#### Testing with a similar sample size"
      ]
    },
    {
      "cell_type": "code",
      "execution_count": null,
      "id": "9f4daca9",
      "metadata": {
        "id": "9f4daca9"
      },
      "outputs": [],
      "source": [
        "# initializing samples\n",
        "sample_0 = data.loc[data['holiday']==0,'count'].sample(frac=0.03)\n",
        "sample_1 = data.loc[data['holiday']==1,'count']"
      ]
    },
    {
      "cell_type": "code",
      "execution_count": null,
      "id": "46abe0fa",
      "metadata": {
        "id": "46abe0fa",
        "outputId": "464954ec-7bd9-4554-caaf-96bf14b23379"
      },
      "outputs": [
        {
          "name": "stdout",
          "output_type": "stream",
          "text": [
            "317 311\n"
          ]
        }
      ],
      "source": [
        "print(len(sample_0),len(sample_1))"
      ]
    },
    {
      "cell_type": "code",
      "execution_count": null,
      "id": "60030657",
      "metadata": {
        "id": "60030657"
      },
      "outputs": [],
      "source": [
        "# running the test\n",
        "test_statistic, pvalue = ttest_ind(sample_0,sample_1)"
      ]
    },
    {
      "cell_type": "code",
      "execution_count": null,
      "id": "46424854",
      "metadata": {
        "id": "46424854",
        "outputId": "0d5e07a4-a164-4ded-da2d-db1f265a4077"
      },
      "outputs": [
        {
          "name": "stdout",
          "output_type": "stream",
          "text": [
            "There isn't enough evidence which disproves the null hypothesis.\n",
            "Hence, we fail to reject the null hypothesis.\n",
            "The test statistic = 0.41\n",
            "The p-value = 0.68248\n"
          ]
        }
      ],
      "source": [
        "# displaying the results\n",
        "accept_reject(test_statistic,pvalue)"
      ]
    },
    {
      "cell_type": "markdown",
      "id": "ccf79e94",
      "metadata": {
        "id": "ccf79e94"
      },
      "source": [
        ">#### Observations\n",
        ">- By taking similar sample size also, the p-value does not change much (The hypothesis test gives same result). This means that the difference in sample sizes does not have any effect on t-test."
      ]
    },
    {
      "cell_type": "markdown",
      "id": "a83b4ed8",
      "metadata": {
        "id": "a83b4ed8"
      },
      "source": [
        "<a id='working-day'></a>\n",
        "### Working day\n",
        "First we will check whether working days have an impact on demand of scooters or not. If yes, then we will check whether the demand increases or decreased during working days."
      ]
    },
    {
      "cell_type": "markdown",
      "id": "f8b5d173",
      "metadata": {
        "id": "f8b5d173"
      },
      "source": [
        "<span style='color:blue'>**Test 1**<br>\n",
        "**H0**: The day being a working day or not does not have any impact on the demand of scooters.<br>\n",
        "**HA**: Working days have an impact on demand of the scooters<br>\n",
        "**Signifincance level:** alpha = 0.05</span>"
      ]
    },
    {
      "cell_type": "code",
      "execution_count": null,
      "id": "ec5a42e2",
      "metadata": {
        "id": "ec5a42e2"
      },
      "outputs": [],
      "source": [
        "# initializing samples\n",
        "sample_0 = data.loc[data['workingday']==0,'count']\n",
        "sample_1 = data.loc[data['workingday']==1,'count']"
      ]
    },
    {
      "cell_type": "code",
      "execution_count": null,
      "id": "3d498d22",
      "metadata": {
        "id": "3d498d22"
      },
      "outputs": [],
      "source": [
        "# running the test\n",
        "test_statistic, pvalue = ttest_ind(sample_0,sample_1)"
      ]
    },
    {
      "cell_type": "code",
      "execution_count": null,
      "id": "3c3e5240",
      "metadata": {
        "id": "3c3e5240",
        "outputId": "9ab5e54b-fc7f-441c-ed56-e0888ac65642"
      },
      "outputs": [
        {
          "name": "stdout",
          "output_type": "stream",
          "text": [
            "There isn't enough evidence which disproves the null hypothesis.\n",
            "Hence, we fail to reject the null hypothesis.\n",
            "The test statistic = -1.21\n",
            "The p-value = 0.22645\n"
          ]
        }
      ],
      "source": [
        "# displaying the results\n",
        "accept_reject(test_statistic,pvalue)"
      ]
    },
    {
      "cell_type": "markdown",
      "id": "e0c168c2",
      "metadata": {
        "id": "e0c168c2"
      },
      "source": [
        ">#### Obeservations\n",
        ">- Based on the sample, the difference in demand on working days and non working days are not statistically significant.\n",
        ">- <span style='color:red'>There isn't enough evidence to reject our null hypothesis</span>"
      ]
    },
    {
      "cell_type": "markdown",
      "id": "d4a82040",
      "metadata": {
        "id": "d4a82040"
      },
      "source": [
        "<a id='year'></a>\n",
        "### Year\n",
        "First we will check whether demand in 2011 and 2012 are similar or not. If no, then we will check whether the demand increases or decreased during those years."
      ]
    },
    {
      "cell_type": "markdown",
      "id": "e31e7d32",
      "metadata": {
        "id": "e31e7d32"
      },
      "source": [
        "<span style='color:blue'>**Test 1**<br>\n",
        "**H0**: With years, there is no increase in demand of scooters<br>\n",
        "**HA**: With years, the demand of scooters have changed<br>\n",
        "**Signifincance level:** alpha = 0.05</span>"
      ]
    },
    {
      "cell_type": "code",
      "execution_count": null,
      "id": "405ec6b9",
      "metadata": {
        "id": "405ec6b9"
      },
      "outputs": [],
      "source": [
        "# initializing samples\n",
        "sample_0 = data.loc[data['year']==2011,'count']\n",
        "sample_1 = data.loc[data['year']==2012,'count']"
      ]
    },
    {
      "cell_type": "code",
      "execution_count": null,
      "id": "cc2658f0",
      "metadata": {
        "id": "cc2658f0"
      },
      "outputs": [],
      "source": [
        "# running the test\n",
        "test_statistic, pvalue = ttest_ind(sample_0,sample_1)"
      ]
    },
    {
      "cell_type": "code",
      "execution_count": null,
      "id": "b5b0acc4",
      "metadata": {
        "id": "b5b0acc4",
        "outputId": "03de5e90-e88d-463b-dcba-30bcd45ef295"
      },
      "outputs": [
        {
          "name": "stdout",
          "output_type": "stream",
          "text": [
            "There is enough evidence which disproves the null hypothesis.\n",
            "Hence, reject the null hypothesis and accept the alternate hypothesis.\n",
            "The test statistic = -28.14\n",
            "The p-value = 0.0\n"
          ]
        }
      ],
      "source": [
        "# displaying the results\n",
        "accept_reject(test_statistic,pvalue)"
      ]
    },
    {
      "cell_type": "markdown",
      "id": "422b3f41",
      "metadata": {
        "id": "422b3f41"
      },
      "source": [
        ">#### Obeservations\n",
        ">- Based on the sample, the difference in demand in 2011 and 2012 is statistically significant.\n",
        ">- <span style='color:green'>There is enough evidence to reject our null hypothesis and accept alternate hypothesis</span>"
      ]
    },
    {
      "cell_type": "markdown",
      "id": "eec167d8",
      "metadata": {
        "id": "eec167d8"
      },
      "source": [
        "<span style='color:blue'>**Test 2**<br>\n",
        "**H0**: With years, there is no increase in demand of scooters<br>\n",
        "**HA**: With years, the demand of scooters have increased<br>\n",
        "**Signifincance level:** alpha = 0.05</span>"
      ]
    },
    {
      "cell_type": "markdown",
      "id": "345e6032",
      "metadata": {
        "id": "345e6032"
      },
      "source": [
        "This will be a left tailed t-test"
      ]
    },
    {
      "cell_type": "code",
      "execution_count": null,
      "id": "a2883ecb",
      "metadata": {
        "id": "a2883ecb"
      },
      "outputs": [],
      "source": [
        "# initializing samples\n",
        "sample_0 = data.loc[data['year']==2011,'count']\n",
        "sample_1 = data.loc[data['year']==2012,'count']"
      ]
    },
    {
      "cell_type": "code",
      "execution_count": null,
      "id": "04d2eb1c",
      "metadata": {
        "id": "04d2eb1c"
      },
      "outputs": [],
      "source": [
        "# running the test\n",
        "test_statistic, pvalue = ttest_ind(sample_0,sample_1,alternative='less')"
      ]
    },
    {
      "cell_type": "code",
      "execution_count": null,
      "id": "0ad74ca0",
      "metadata": {
        "id": "0ad74ca0",
        "outputId": "bacf94fc-a62d-4ec4-e58c-79ea304b5af4"
      },
      "outputs": [
        {
          "name": "stdout",
          "output_type": "stream",
          "text": [
            "There is enough evidence which disproves the null hypothesis.\n",
            "Hence, reject the null hypothesis and accept the alternate hypothesis.\n",
            "The test statistic = -28.14\n",
            "The p-value = 0.0\n"
          ]
        }
      ],
      "source": [
        "# displaying the results\n",
        "accept_reject(test_statistic,pvalue)"
      ]
    },
    {
      "cell_type": "markdown",
      "id": "0ddad04a",
      "metadata": {
        "id": "0ddad04a"
      },
      "source": [
        ">#### Obeservations\n",
        ">- Based on the sample, the demand in 2012 has increased than that in 2011.\n",
        ">- <span style='color:green'>There is enough evidence to reject our null hypothesis and accept alternate hypothesis</span>"
      ]
    },
    {
      "cell_type": "markdown",
      "id": "abb5da06",
      "metadata": {
        "id": "abb5da06"
      },
      "source": [
        "<a id='anova'></a>\n",
        "## ANOVA"
      ]
    },
    {
      "cell_type": "markdown",
      "id": "dfd56b04",
      "metadata": {
        "id": "dfd56b04"
      },
      "source": [
        "ANOVA is performed between a categorical and a numeric variable.\n",
        "\n",
        "**Assumptions of ANOVA**:\n",
        "1. The data is normally distributed\n",
        "1. The variance between the categories are same\n",
        "1. The Observations are independent of each other\n",
        "\n",
        "Given the data, we can assume that the obeservations are independent of each other.<br>\n",
        "We need to check whether the data is normally distributed or not. For this, we will use Q-Q plot.<br>\n",
        "We will check the variance of each category and compare with each other"
      ]
    },
    {
      "cell_type": "code",
      "execution_count": null,
      "id": "72192994",
      "metadata": {
        "id": "72192994"
      },
      "outputs": [],
      "source": [
        "# defining a function to plot Q-Q plots for all categories\n",
        "\n",
        "import pylab\n",
        "from scipy.stats import probplot\n",
        "from scipy.stats import f_oneway\n",
        "\n",
        "def qq(data,category,value):\n",
        "    \"\"\"\n",
        "    This function plots Q-Q plots for the given variable\n",
        "    \"\"\"\n",
        "\n",
        "    n = len(data[category].unique()) # number of unique categories\n",
        "    rows = int(np.ceil(n/2)) # number of rows in the plot\n",
        "    cols = 2 # number of columns in the plot\n",
        "\n",
        "    plt.figure(figsize=(cols*5,rows*4))\n",
        "    sub = 1\n",
        "\n",
        "    # plotting Q-Q plots\n",
        "    for cat in data[category].unique():\n",
        "\n",
        "        plt.subplot(rows,cols,sub)\n",
        "        sub+=1\n",
        "\n",
        "        # comparing the distribution to normal distribution\n",
        "        probplot(data.loc[data[category]==cat,value], dist='norm', plot=pylab)\n",
        "        plt.title(f\"Q-Q plot\\n{cat}\")\n",
        "\n",
        "    plt.tight_layout()\n",
        "    pylab.show()"
      ]
    },
    {
      "cell_type": "markdown",
      "id": "e1341143",
      "metadata": {
        "id": "e1341143"
      },
      "source": [
        "### Season"
      ]
    },
    {
      "cell_type": "code",
      "execution_count": null,
      "id": "9d361133",
      "metadata": {
        "id": "9d361133",
        "outputId": "05c2860d-a5f1-43f0-f79c-eeef06839c63"
      },
      "outputs": [
        {
          "name": "stdout",
          "output_type": "stream",
          "text": [
            "Standard deviation between seasons\n",
            "season\n",
            "1    125.25\n",
            "2    191.97\n",
            "3    197.11\n",
            "4    177.59\n",
            "Name: count, dtype: float64\n"
          ]
        }
      ],
      "source": [
        "# checking the variance between the categories\n",
        "print(\"Standard deviation between seasons\")\n",
        "print(np.round(data.groupby('season')['count'].apply(np.std),2))"
      ]
    },
    {
      "cell_type": "code",
      "execution_count": null,
      "id": "4c7ea223",
      "metadata": {
        "id": "4c7ea223",
        "outputId": "fa4089df-0fa7-4c36-cbde-b39ec909044c"
      },
      "outputs": [
        {
          "data": {
            "image/png": "[encoded data removed]",
            "text/plain": [
              "<Figure size 720x576 with 4 Axes>"
            ]
          },
          "metadata": {
            "needs_background": "light"
          },
          "output_type": "display_data"
        }
      ],
      "source": [
        "# checking whether the distributions are normal or not\n",
        "qq(data=data,category='season',value='count')"
      ]
    },
    {
      "cell_type": "markdown",
      "id": "68b89c92",
      "metadata": {
        "id": "68b89c92"
      },
      "source": [
        ">#### Observations\n",
        ">- The variance between the categories is not same, not even similar for that matter\n",
        ">- The distribution of count for all the categories is not normal.\n",
        ">- The result from ANOVA are not trustworthy"
      ]
    },
    {
      "cell_type": "markdown",
      "id": "e0c7da87",
      "metadata": {
        "id": "e0c7da87"
      },
      "source": [
        "**ANOVA for season**<br>\n",
        "<span style='color:blue'>**Test 1**<br>\n",
        "**H0**: The demand of scooters in different seasons is not different<br>\n",
        "**HA**: The demand of scooters differs in different seasons<br>\n",
        "**Significance level:** alpha = 0.05</span>"
      ]
    },
    {
      "cell_type": "code",
      "execution_count": null,
      "id": "278ef796",
      "metadata": {
        "id": "278ef796"
      },
      "outputs": [],
      "source": [
        "# applying ANOVA\n",
        "\n",
        "test_statistic, pvalue = f_oneway(data.loc[data['season']==1,'count'],\n",
        "                                  data.loc[data['season']==2,'count'],\n",
        "                                  data.loc[data['season']==3,'count'],\n",
        "                                  data.loc[data['season']==4,'count'],\n",
        "                                 )"
      ]
    },
    {
      "cell_type": "code",
      "execution_count": null,
      "id": "36f04ba4",
      "metadata": {
        "id": "36f04ba4",
        "outputId": "dd03aaf1-224c-4771-8d78-6b78d5a50244"
      },
      "outputs": [
        {
          "name": "stdout",
          "output_type": "stream",
          "text": [
            "There is enough evidence which disproves the null hypothesis.\n",
            "Hence, reject the null hypothesis and accept the alternate hypothesis.\n",
            "The test statistic = 236.95\n",
            "The p-value = 0.0\n"
          ]
        }
      ],
      "source": [
        "accept_reject(test_statistic,pvalue)"
      ]
    },
    {
      "cell_type": "markdown",
      "id": "fd20ca90",
      "metadata": {
        "id": "fd20ca90"
      },
      "source": [
        ">#### Observations\n",
        ">- <span style='color:green'>We reject the null hypothesis and accept the alternate hypothesis</span>\n",
        ">- The demand of scooters in different seasons is different"
      ]
    },
    {
      "cell_type": "markdown",
      "id": "57457d67",
      "metadata": {
        "id": "57457d67"
      },
      "source": [
        "### Weather"
      ]
    },
    {
      "cell_type": "code",
      "execution_count": null,
      "id": "32a77c9e",
      "metadata": {
        "id": "32a77c9e",
        "outputId": "7d553122-ec15-43e4-d80c-459407ac3a78"
      },
      "outputs": [
        {
          "name": "stdout",
          "output_type": "stream",
          "text": [
            "Standard deviation between weather\n",
            "weather\n",
            "1    187.95\n",
            "2    168.34\n",
            "3    138.50\n",
            "4      0.00\n",
            "Name: count, dtype: float64\n"
          ]
        }
      ],
      "source": [
        "# checking the variance between the categories\n",
        "print(\"Standard deviation between weather\")\n",
        "print(np.round(data.groupby('weather')['count'].apply(np.std),2))"
      ]
    },
    {
      "cell_type": "code",
      "execution_count": null,
      "id": "32b7a9b9",
      "metadata": {
        "id": "32b7a9b9",
        "outputId": "3a519828-673f-4314-aff3-b9173d08d86e"
      },
      "outputs": [
        {
          "name": "stderr",
          "output_type": "stream",
          "text": [
            "/Users/gaurav.sharma/opt/anaconda3/lib/python3.8/site-packages/scipy/stats/_stats_mstats_common.py:160: RuntimeWarning: invalid value encountered in double_scalars\n",
            "  slope = ssxym / ssxm\n",
            "/Users/gaurav.sharma/opt/anaconda3/lib/python3.8/site-packages/scipy/stats/_stats_mstats_common.py:174: RuntimeWarning: invalid value encountered in sqrt\n",
            "  t = r * np.sqrt(df / ((1.0 - r + TINY)*(1.0 + r + TINY)))\n",
            "/Users/gaurav.sharma/opt/anaconda3/lib/python3.8/site-packages/scipy/stats/_stats_mstats_common.py:176: RuntimeWarning: invalid value encountered in double_scalars\n",
            "  slope_stderr = np.sqrt((1 - r**2) * ssym / ssxm / df)\n"
          ]
        },
        {
          "data": {
            "image/png": "[encoded data removed]",
            "text/plain": [
              "<Figure size 720x576 with 4 Axes>"
            ]
          },
          "metadata": {
            "needs_background": "light"
          },
          "output_type": "display_data"
        }
      ],
      "source": [
        "# checking whether the distributions are normal or not\n",
        "qq(data=data,category='weather',value='count')"
      ]
    },
    {
      "cell_type": "markdown",
      "id": "ec45bb19",
      "metadata": {
        "id": "ec45bb19"
      },
      "source": [
        ">#### Observations\n",
        ">- The variance between the categories is not same\n",
        ">- The distribution of count for all the categories is not normal.\n",
        ">- The result from ANOVA will not be trustworthy\n",
        ">- Let's remove the category 4 since it only has 1 datapoint and the results might be skewed"
      ]
    },
    {
      "cell_type": "markdown",
      "id": "4ecf0b9e",
      "metadata": {
        "id": "4ecf0b9e"
      },
      "source": [
        "**ANOVA for weather**<br>\n",
        "<span style='color:blue'>**Test 1**<br>\n",
        "**H0**: The demand of scooters in different weathers is not different<br>\n",
        "**HA**: The demand of scooters differs in different weather<br>\n",
        "**Significance level:** alpha = 0.05</span>"
      ]
    },
    {
      "cell_type": "code",
      "execution_count": null,
      "id": "4ac791a0",
      "metadata": {
        "id": "4ac791a0"
      },
      "outputs": [],
      "source": [
        "# applying ANOVA\n",
        "\n",
        "test_statistic, pvalue = f_oneway(data.loc[data['weather']==1,'count'],\n",
        "                                  data.loc[data['weather']==2,'count'],\n",
        "                                  data.loc[data['weather']==3,'count'],\n",
        "                                 )"
      ]
    },
    {
      "cell_type": "code",
      "execution_count": null,
      "id": "a73efbf2",
      "metadata": {
        "id": "a73efbf2",
        "outputId": "23858f0e-dd90-4c6a-a3e5-66b488c840bc"
      },
      "outputs": [
        {
          "name": "stdout",
          "output_type": "stream",
          "text": [
            "There is enough evidence which disproves the null hypothesis.\n",
            "Hence, reject the null hypothesis and accept the alternate hypothesis.\n",
            "The test statistic = 98.28\n",
            "The p-value = 0.0\n"
          ]
        }
      ],
      "source": [
        "accept_reject(test_statistic,pvalue)"
      ]
    },
    {
      "cell_type": "markdown",
      "id": "68c9c404",
      "metadata": {
        "id": "68c9c404"
      },
      "source": [
        ">#### Observations\n",
        ">- <span style='color:green'>We reject the null hypothesis and accept the alternate hypothesis</span>\n",
        ">- The demand of scooters in different weathers is different"
      ]
    },
    {
      "cell_type": "markdown",
      "id": "48a95ae3",
      "metadata": {
        "id": "48a95ae3"
      },
      "source": [
        "<a id='chi2'></a>\n",
        "## Chi2 test"
      ]
    },
    {
      "cell_type": "markdown",
      "id": "cb9a7dd6",
      "metadata": {
        "id": "cb9a7dd6"
      },
      "source": [
        "Chi2 test is performed between a categorical and categorical variable.\n",
        "\n",
        "**Assumptions of Chi2 test**:\n",
        "1. Cells in the contingency table are mutually exclusive\n",
        "1. The frequency should be more than 5 in atleast 80% of the cells\n",
        "1. The Observations are independent of each other\n",
        "\n",
        "There are no duplicate timestamps in the data. So we can safely assume that the cells are independent.<br>\n",
        "We have to check the frequency is greater than 5 in atleast 80% of the cells<br>\n",
        "Given the data, we can assume that the obeservations are independent of each other.<br>"
      ]
    },
    {
      "cell_type": "markdown",
      "id": "ad6039cc",
      "metadata": {
        "id": "ad6039cc"
      },
      "source": [
        "### Weather and Season"
      ]
    },
    {
      "cell_type": "markdown",
      "id": "7605bd3c",
      "metadata": {
        "id": "7605bd3c"
      },
      "source": [
        "**Chi2 test**<br>\n",
        "<span style='color:blue'>**Test 1**<br>\n",
        "**H0**: Season does not have any impact on the weather<br>\n",
        "**HA**: Season have an impact on the weather<br></span>"
      ]
    },
    {
      "cell_type": "code",
      "execution_count": null,
      "id": "e97762ac",
      "metadata": {
        "id": "e97762ac"
      },
      "outputs": [],
      "source": [
        "# importing chi2\n",
        "from scipy.stats import chi2_contingency"
      ]
    },
    {
      "cell_type": "markdown",
      "id": "c7addc84",
      "metadata": {
        "id": "c7addc84"
      },
      "source": [
        "From the weather columns, we will remove category = 4 for the same reason discussed earlier"
      ]
    },
    {
      "cell_type": "code",
      "execution_count": null,
      "id": "4443cb32",
      "metadata": {
        "id": "4443cb32",
        "outputId": "f131ced5-149a-474a-e31a-00868395e741"
      },
      "outputs": [
        {
          "data": {
            "text/html": [
              "<div>\n",
              "<style scoped>\n",
              "    .dataframe tbody tr th:only-of-type {\n",
              "        vertical-align: middle;\n",
              "    }\n",
              "\n",
              "    .dataframe tbody tr th {\n",
              "        vertical-align: top;\n",
              "    }\n",
              "\n",
              "    .dataframe thead th {\n",
              "        text-align: right;\n",
              "    }\n",
              "</style>\n",
              "<table border=\"1\" class=\"dataframe\">\n",
              "  <thead>\n",
              "    <tr style=\"text-align: right;\">\n",
              "      <th>season</th>\n",
              "      <th>1</th>\n",
              "      <th>2</th>\n",
              "      <th>3</th>\n",
              "      <th>4</th>\n",
              "    </tr>\n",
              "    <tr>\n",
              "      <th>weather</th>\n",
              "      <th></th>\n",
              "      <th></th>\n",
              "      <th></th>\n",
              "      <th></th>\n",
              "    </tr>\n",
              "  </thead>\n",
              "  <tbody>\n",
              "    <tr>\n",
              "      <th>1</th>\n",
              "      <td>1759</td>\n",
              "      <td>1801</td>\n",
              "      <td>1930</td>\n",
              "      <td>1702</td>\n",
              "    </tr>\n",
              "    <tr>\n",
              "      <th>2</th>\n",
              "      <td>715</td>\n",
              "      <td>708</td>\n",
              "      <td>604</td>\n",
              "      <td>807</td>\n",
              "    </tr>\n",
              "    <tr>\n",
              "      <th>3</th>\n",
              "      <td>211</td>\n",
              "      <td>224</td>\n",
              "      <td>199</td>\n",
              "      <td>225</td>\n",
              "    </tr>\n",
              "  </tbody>\n",
              "</table>\n",
              "</div>"
            ],
            "text/plain": [
              "season      1     2     3     4\n",
              "weather                        \n",
              "1        1759  1801  1930  1702\n",
              "2         715   708   604   807\n",
              "3         211   224   199   225"
            ]
          },
          "metadata": {},
          "output_type": "display_data"
        }
      ],
      "source": [
        "ct = pd.crosstab(index=data.loc[data['weather']!=4,'weather'],columns=data['season'])\n",
        "display(ct)"
      ]
    },
    {
      "cell_type": "markdown",
      "id": "7e9609b7",
      "metadata": {
        "id": "7e9609b7"
      },
      "source": [
        ">#### Observations\n",
        ">- The frequency in the contingency table is more than 5 in all the cases"
      ]
    },
    {
      "cell_type": "code",
      "execution_count": null,
      "id": "f99e8cf5",
      "metadata": {
        "id": "f99e8cf5"
      },
      "outputs": [],
      "source": [
        "# performing chi2 test\n",
        "test_statistic,pvalue,degF,expected = chi2_contingency(ct)"
      ]
    },
    {
      "cell_type": "code",
      "execution_count": null,
      "id": "34325856",
      "metadata": {
        "id": "34325856",
        "outputId": "82dac7fe-a897-4439-ce69-3e0674923cfa"
      },
      "outputs": [
        {
          "name": "stdout",
          "output_type": "stream",
          "text": [
            "There is enough evidence which disproves the null hypothesis.\n",
            "Hence, reject the null hypothesis and accept the alternate hypothesis.\n",
            "The test statistic = 46.1\n",
            "The p-value = 0.0\n"
          ]
        }
      ],
      "source": [
        "accept_reject(test_statistic,pvalue)"
      ]
    },
    {
      "cell_type": "markdown",
      "id": "53f061ef",
      "metadata": {
        "id": "53f061ef"
      },
      "source": [
        ">#### Observations\n",
        ">- <span style='color:green'>We reject the null hypothesis and accept the alternate hypothesis</span>\n",
        ">- Season have an impact on the weather"
      ]
    },
    {
      "cell_type": "markdown",
      "id": "c735b9de",
      "metadata": {
        "id": "c735b9de"
      },
      "source": [
        "<a id='conclusion'></a>\n",
        "# Conclusion\n",
        "\n",
        "- Samples are collected only till 19th day of any month\n",
        "- Weather = 4 has only one datapoint, so we will have to remove it in analysis\n",
        "- There is no effect of data imbalance on statistical tests\n",
        "- Distribution of humidity is similar to uniform\n",
        "- The count columns follows a pareto distribution\n",
        "\n",
        "## Business Insights and Recommendations\n",
        "\n",
        "1. The demand of scooters on holidays and non-holidays do not differ. This might be because on holidays, the customers still needs the scooters for the following reasons: 1. Grocery errands and misc. shopping, 2. Meeting friends and relatives 3. Other tasks involving transit, 4. Essential services are still running on holidays, 5. Services like Swiggy, Zomato, Dunzo etc. are still running.\n",
        "    1. <span style='color:blue'>The recommendation for Yulu is that is case of holidays, there can more scooters in residential areas since most of the customers will be present at home. Other recommendation is to analyse more data based on geo-location, and on holidays which kind of geography offers more demand.</span>\n",
        "1. The demand of scooters on working day and non working day do not differ. The reasons for this might be similar.\n",
        "    1. <span style='color:blue'>The recommendations are same as that in the case of Holidays</span>\n",
        "1. The demand of scooters differ in different seasons as well as different weathers. As we analysed, the weather and season are not independent. If the weather is too extreme, like heavy rain, extreme heat or extreme cold, the customer would prefer using a cab or delay the plan altogether.\n",
        "    1. <span style='color:blue'>The recommendation in this will be to offer customers deals which might push the customers in dilemma to use Yulu bikes instead of cabs. Since there is a significant difference in the rates of cabs and scooters, Yulu can leverage this information in their advantage.</span>\n",
        "    1. <span style='color:blue'>Yulu can build a connection with customers by writing articles about how to be safe and careful while riding scooters. This can include driving safely in traffic, obeying traffic rules, how to be safe in different weather conditions etc. This will build trust in customers which will let them think that as a company, Yulu cares and they will not compromise with quality in their products. One such artile was posted by Yulu: [Article](https://medium.com/@yulubike/top-5-tips-for-cycling-in-hot-summer-weather-8e32428e1760)</span>\n",
        "1. <span style='color:blue'>The demand problem can be further analysed by taking geo location as a variable. For example, in the morning time on a working day, there will be more demand from residential areas to office areas. Vice versa in the evening time. In the early morning, afternoon and pre-evening, people who are at home might want to run some errands or do some personal work, so the demand will be higher. So based on this kind of geo location data, Yulu can manage demand-supply in even better way.</span>\n",
        "1. From the data we observed that the demand has increased from 2011 to 2012. But in the problem statement it is stated that the revenue has dipped. This mis-match might be happening due to incorrect sampling."
      ]
    }
  ],
  "metadata": {
    "kernelspec": {
      "display_name": "Python 3",
      "language": "python",
      "name": "python3"
    },
    "language_info": {
      "codemirror_mode": {
        "name": "ipython",
        "version": 3
      },
      "file_extension": ".py",
      "mimetype": "text/x-python",
      "name": "python",
      "nbconvert_exporter": "python",
      "pygments_lexer": "ipython3",
      "version": "3.8.8"
    },
    "colab": {
      "provenance": []
    }
  },
  "nbformat": 4,
  "nbformat_minor": 5
}